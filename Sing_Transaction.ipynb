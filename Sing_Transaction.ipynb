{
 "cells": [
  {
   "attachments": {},
   "cell_type": "markdown",
   "metadata": {},
   "source": [
    "### Chat GPT Query:\n",
    "---\n",
    "\n",
    "\n"
   ]
  },
  {
   "attachments": {},
   "cell_type": "markdown",
   "metadata": {},
   "source": [
    "I will provide you a input with desired output and you will provide a python script to generate it\n",
    "\n",
    "##### Inputs ######\n",
    "queryString: symbol=ETHBTC&side=BUY&type=LIMIT&timeInForce=GTC&quantity=1&price=0.1&recvWindow=5000&timestamp=1538323200000\n",
    "[linux]$ echo -n \"symbol=ETHBTC&side=BUY&type=LIMIT&timeInForce=GTC&quantity=1&price=0.1&recvWindow=5000&timestamp=1538323200000\" | openssl dgst -sha256 -hmac \"lH3ELTNiFxCQTmi9pPcWWikhsjO04Yoqw3euoHUuOLC3GYBW64ZqzQsiOEHXQS76\"\n",
    "\n",
    "##### Outputs######\n",
    "(stdin)= 5f2750ad7589d1d40757a55342e621a44037dad23b5128cc70e18ec1d1c3f4c6"
   ]
  },
  {
   "attachments": {},
   "cell_type": "markdown",
   "metadata": {},
   "source": [
    "### Result"
   ]
  },
  {
   "cell_type": "code",
   "execution_count": 15,
   "metadata": {},
   "outputs": [
    {
     "name": "stdout",
     "output_type": "stream",
     "text": [
      "(stdin)= 5f2750ad7589d1d40757a55342e621a44037dad23b5128cc70e18ec1d1c3f4c6\n"
     ]
    }
   ],
   "source": [
    "##### Python Script #####\n",
    "import hashlib\n",
    "import hmac\n",
    "\n",
    "query_string = 'symbol=ETHBTC&side=BUY&type=LIMIT&timeInForce=GTC&quantity=1&price=0.1&recvWindow=5000&timestamp=1538323200000'\n",
    "secret_key = 'lH3ELTNiFxCQTmi9pPcWWikhsjO04Yoqw3euoHUuOLC3GYBW64ZqzQsiOEHXQS76'\n",
    "\n",
    "digest = hmac.new(secret_key.encode(), query_string.encode(), hashlib.sha256).hexdigest()\n",
    "\n",
    "print('(stdin)= ' + digest)"
   ]
  },
  {
   "attachments": {},
   "cell_type": "markdown",
   "metadata": {},
   "source": [
    "### Chat GPT Query"
   ]
  },
  {
   "attachments": {},
   "cell_type": "markdown",
   "metadata": {},
   "source": [
    "I will provide you a input with desired output and you will provide a python script to generate it\n",
    "\n",
    "##### Inputs ######\n",
    "apiKey = \"tAQfOrPIZAhym0qHISRt8EFvxPemdBm5j5WMlkm3Ke9aFp0EGWC2CGM8GHV4kCYW\"\n",
    "secretKey = \"lH3ELTNiFxCQTmi9pPcWWikhsjO04Yoqw3euoHUuOLC3GYBW64ZqzQsiOEHXQS76\"\n",
    "symbol = \"ETHBTC\"\n",
    "side = \"BUY\"\n",
    "type = \"LIMIT\"\n",
    "timeInForce = \"GTC\"\n",
    "quantity = \"1\"\n",
    "price = \"0.1\"\n",
    "recvWindow = \"5000\"\n",
    "timestamp = \"1538323200000\"\n",
    "\n",
    "##### Outputs######\n",
    "symbol=ETHBTC&side=BUY&type=LIMIT&timeInForce=GTC&quantity=1&price=0.1&recvWindow=5000&timestamp=1538323200000&signature=f3e3d3cb79f0037fe24f1d7d8cfb9e9b9f7c8f2d42e7c4f1f3c7f3e3b4d7bef9"
   ]
  },
  {
   "attachments": {},
   "cell_type": "markdown",
   "metadata": {},
   "source": [
    "### Result"
   ]
  },
  {
   "cell_type": "code",
   "execution_count": 16,
   "metadata": {},
   "outputs": [
    {
     "name": "stdout",
     "output_type": "stream",
     "text": [
      "symbol=ETHBTC&side=BUY&type=LIMIT&timeInForce=GTC&quantity=1&price=0.1&recvWindow=5000&timestamp=1538323200000&signature=5f2750ad7589d1d40757a55342e621a44037dad23b5128cc70e18ec1d1c3f4c6\n"
     ]
    }
   ],
   "source": [
    "##### Python Script #####\n",
    "apiKey = \"tAQfOrPIZAhym0qHISRt8EFvxPemdBm5j5WMlkm3Ke9aFp0EGWC2CGM8GHV4kCYW\"\n",
    "secretKey = \"lH3ELTNiFxCQTmi9pPcWWikhsjO04Yoqw3euoHUuOLC3GYBW64ZqzQsiOEHXQS76\"\n",
    "symbol = \"ETHBTC\"\n",
    "side = \"BUY\"\n",
    "oder_type = \"LIMIT\"\n",
    "timeInForce = \"GTC\"\n",
    "quantity = \"1\"\n",
    "price = \"0.1\"\n",
    "recvWindow = \"5000\"\n",
    "timestamp = \"1538323200000\"\n",
    "\n",
    "import hmac\n",
    "import hashlib\n",
    "\n",
    "signature_data = f\"symbol={symbol}&side={side}&type={oder_type}&timeInForce={timeInForce}&quantity={quantity}&price={price}&recvWindow={recvWindow}&timestamp={timestamp}\"\n",
    "\n",
    "signature = hmac.new(secretKey.encode('utf-8'), signature_data.encode('utf-8'), hashlib.sha256).hexdigest()\n",
    "\n",
    "output = f\"{signature_data}&signature={signature}\"\n",
    "\n",
    "print(output)"
   ]
  },
  {
   "attachments": {},
   "cell_type": "markdown",
   "metadata": {},
   "source": [
    "### Sending The Transaction"
   ]
  },
  {
   "cell_type": "code",
   "execution_count": 17,
   "metadata": {},
   "outputs": [
    {
     "name": "stdout",
     "output_type": "stream",
     "text": [
      "b''\n"
     ]
    }
   ],
   "source": [
    "\n",
    "##### Python Script #####\n",
    "\n",
    "import requests\n",
    "import json\n",
    "\n",
    "HOST = 'api.chiliz.net/'\n",
    "APIKEY = 'tAQfOrPIZAhym0qHISRt8EFvxPemdBm5j5WMlkm3Ke9aFp0EGWC2CGM8GHV4kCYW'\n",
    "\n",
    "symbol = 'ETHBTC'\n",
    "side = 'BUY'\n",
    "type = 'LIMIT'\n",
    "timeInForce = 'GTC'\n",
    "quantity = 1\n",
    "price = 0.1\n",
    "recvWindow = 5000\n",
    "timestamp = 1538323200000\n",
    "signature = '5f2750ad7589d1d40757a55342e621a44037dad23b5128cc70e18ec1d1c3f4c6'\n",
    "\n",
    "url = f'https://{HOST}/openapi/v1/order?symbol={symbol}&side={side}&type={type}&timeInForce={timeInForce}&quantity={quantity}&price={price}&recvWindow={recvWindow}&timestamp={timestamp}&signature={signature}'\n",
    "\n",
    "headers = {'X-BH-APIKEY': APIKEY}\n",
    "\n",
    "response = requests.post(url, headers=headers)\n",
    "print(response.content)"
   ]
  }
 ],
 "metadata": {
  "kernelspec": {
   "display_name": "base",
   "language": "python",
   "name": "python3"
  },
  "language_info": {
   "codemirror_mode": {
    "name": "ipython",
    "version": 3
   },
   "file_extension": ".py",
   "mimetype": "text/x-python",
   "name": "python",
   "nbconvert_exporter": "python",
   "pygments_lexer": "ipython3",
   "version": "3.9.13"
  },
  "orig_nbformat": 4
 },
 "nbformat": 4,
 "nbformat_minor": 2
}
